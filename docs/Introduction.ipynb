{
 "cells": [
  {
   "cell_type": "markdown",
   "metadata": {},
   "source": [
    "## Overall layout of a Molecule object.\n",
    "The Molecule object has the following architecture:\n",
    "* A Molecule is composed of Models (conformations)\n",
    "* A Model is composed of Residues\n",
    "* A Residue is composed of Atoms    \n",
    "\n",
    "    \n",
    "* Atom object is the basic component in SBio python, which is a container of an atomic coordinate line in a 3D-coordinates file. For example, when reading a pdb file, each line starting with ‘ATOM’ or ‘HETATM’ will be used to create an Atom object. \n",
    "* Residue object is used to represent a residue (amino acid or nucleic acid residue, sometimes could be a small molecule.) in a macromolecule. Residue object is composed of several Atom object of atoms belong to a specific residue.\n",
    "* Model object is composed of Residue objects and used to represent a model (or conformation) of a macromolecule.\n",
    "* Molecule object is the top container for Atom objects. Molecule can have at least 1 Model object.    \n",
    "    \n",
    "## Access\n",
    "Atom, Residue and Model objects are stored in a python dict of their parent containers. Access of Atom, Residue and Model objects within a Molecule object is supported by using the properties of python object. Normally a Model object will be assigned with the key of ‘m+number’, such as ‘m1, m100’. Suppose we have a Molecule object name ‘mol’, then the 1st Model object of ‘mol’ is ‘mol.m1’. Residue objects within a model will be assigned with the key of ‘chain id+residue serial’, 1st residue of chain A will have the name of ‘A1’, and can be access by ‘mol.m1.A1’. The name of an atom in its 3D coordinates will be used as the key. Then an Atom object with the name of ‘CA’ in residue ‘A1’ in 1st model can be access by ‘mol.m1.A1.CA’. However some atom has the name end with quotes, in this case the quotes will be replaced by ‘_’ (underscore). E.g., the key for “C5’” will be ‘C5_’\n"
   ]
  },
  {
   "cell_type": "markdown",
   "metadata": {},
   "source": [
    "## Create a Molecule object\n",
    "Molecule objects can be created from PDB files or other formats (to be implemented), for example:"
   ]
  },
  {
   "cell_type": "code",
   "execution_count": 2,
   "metadata": {},
   "outputs": [
    {
     "data": {
      "text/plain": [
       "test.pdb"
      ]
     },
     "execution_count": 2,
     "metadata": {},
     "output_type": "execute_result"
    }
   ],
   "source": [
    "from SBio import *\n",
    "mol = create_molecule('test.pdb')\n",
    "mol"
   ]
  },
  {
   "cell_type": "markdown",
   "metadata": {},
   "source": [
    "navigate through a Molecule object:"
   ]
  },
  {
   "cell_type": "code",
   "execution_count": 2,
   "metadata": {},
   "outputs": [
    {
     "name": "stdout",
     "output_type": "stream",
     "text": [
      "test.pdb.m1.A.DT.1\n",
      "test.pdb.m1.A.DA.2\n",
      "test.pdb.m2.A.DT.1\n",
      "test.pdb.m2.A.DA.2\n"
     ]
    }
   ],
   "source": [
    "for m in mol.get_model():\n",
    "    for r in m.get_residue():\n",
    "        print(r)"
   ]
  },
  {
   "cell_type": "markdown",
   "metadata": {},
   "source": [
    "The \"get_model\", \"get_atom\" and \"get_residue\" are python generators, can be more conveniently used like this:"
   ]
  },
  {
   "cell_type": "code",
   "execution_count": 3,
   "metadata": {},
   "outputs": [
    {
     "name": "stdout",
     "output_type": "stream",
     "text": [
      "test.pdb.m1.A.DT.1\n",
      "test.pdb.m1.A.DA.2\n"
     ]
    }
   ],
   "source": [
    "atoms=mol.m1.get_atom()\n",
    "residue=mol.m1.get_residue()\n",
    "for r in residue:\n",
    "    print(r)"
   ]
  },
  {
   "cell_type": "markdown",
   "metadata": {},
   "source": [
    "## write coordinates to pdb\n",
    "Both Molecule and Model object can be written into pdb file. Thus it provides a method to split pdb file with multiple conformations."
   ]
  },
  {
   "cell_type": "code",
   "execution_count": 4,
   "metadata": {},
   "outputs": [
    {
     "name": "stdout",
     "output_type": "stream",
     "text": [
      "Successfully write pdb: mol_new.pdb\n",
      "Successfully write pdb: mol_m1.pdb\n",
      "Successfully write pdb: mol_m2.pdb\n"
     ]
    }
   ],
   "source": [
    "mol.write_pdb('mol_new.pdb')       # write all conformation into a single pdb file\n",
    "i = 1\n",
    "for m in mol.get_model():\n",
    "    name = 'mol_m'+str(i)+'.pdb'\n",
    "    m.write_pdb(name)  #write one conformation to a single pdb file\n",
    "    i+=1"
   ]
  },
  {
   "cell_type": "markdown",
   "metadata": {},
   "source": [
    "## get information of a molecule\n",
    "The 'Model' module provide several methods for extraction information of a molecule    \n",
    "* get_atom_num: return the number of atoms in a molecule    \n",
    "* get_residue_list: return a list of residue of a molecule    \n",
    "* get_sequence: return the sequence information of a molecule    \n",
    "* write_fasta: write sequence information into a fasta file    \n",
    "* get_mw: return the molecular weight of a molecule    \n",
    "* get_dist_matrix: compute the complete inter-atomic distance matrix  \n",
    "usage:"
   ]
  },
  {
   "cell_type": "code",
   "execution_count": 10,
   "metadata": {},
   "outputs": [
    {
     "name": "stdout",
     "output_type": "stream",
     "text": [
      "62\n",
      "['A1', 'A2']\n",
      "TA\n",
      "Writing sequence to test.fasta\n"
     ]
    },
    {
     "data": {
      "text/plain": [
       "553.4192210000001"
      ]
     },
     "execution_count": 10,
     "metadata": {},
     "output_type": "execute_result"
    }
   ],
   "source": [
    "m1 = mol.m1\n",
    "print(m1.get_atom_num())\n",
    "print(m1.get_residue_list())\n",
    "print(m1.get_sequence('A')) #the sequence of chain A\n",
    "m1.write_fasta('A', 'test.fasta', comment='test')\n",
    "m1.get_mw()"
   ]
  },
  {
   "cell_type": "markdown",
   "metadata": {},
   "source": [
    "## compute geometry information\n",
    "The 'Geometry' module contains several methods for the measurement of distance, angle and torsion angle among atoms:"
   ]
  },
  {
   "cell_type": "code",
   "execution_count": 6,
   "metadata": {},
   "outputs": [
    {
     "data": {
      "text/plain": [
       "1.4165210905595438"
      ]
     },
     "execution_count": 6,
     "metadata": {},
     "output_type": "execute_result"
    }
   ],
   "source": [
    "a1 = mol.m1.A2.O4_   # the actual name for this atom is \"O4'\"\n",
    "a2 = mol.m1.A2.C1_\n",
    "a3 = mol.m1.A2.N9\n",
    "a4 = mol.m1.A2.C4\n",
    "get_distance(a1, a2)"
   ]
  },
  {
   "cell_type": "code",
   "execution_count": 7,
   "metadata": {},
   "outputs": [
    {
     "data": {
      "text/plain": [
       "110.19401514913508"
      ]
     },
     "execution_count": 7,
     "metadata": {},
     "output_type": "execute_result"
    }
   ],
   "source": [
    "get_angle(a1, a2, a3)"
   ]
  },
  {
   "cell_type": "code",
   "execution_count": 8,
   "metadata": {},
   "outputs": [
    {
     "name": "stdout",
     "output_type": "stream",
     "text": [
      "the CHI torsion angle is -114.6114797744751\n"
     ]
    }
   ],
   "source": [
    "chi = get_torsion(a1,a2,a3,a4)\n",
    "print('the CHI torsion angle is {}'.format(chi))"
   ]
  },
  {
   "cell_type": "markdown",
   "metadata": {},
   "source": [
    "## compute the interaction between atoms\n",
    "The 'Interaction' module provides several methods to check the interaction between atoms:\n",
    "* get_hydrogen_bond: check whether hydrogen bond formation between given atoms\n",
    "* get_polar_interaction: compute the polar interaction between given atoms\n",
    "* get_pi_pi_interaction: compute the aromatic pi-pi interaction between given atom groups"
   ]
  },
  {
   "cell_type": "code",
   "execution_count": 11,
   "metadata": {},
   "outputs": [
    {
     "name": "stdout",
     "output_type": "stream",
     "text": [
      "(False, 10.638108149478457, 118.41191960964946)\n",
      "(False, 10.638108149478457)\n"
     ]
    }
   ],
   "source": [
    "a5 = m1.A2.N6\n",
    "a6 = m1.A2.H61\n",
    "a7 = m1.A1.O2\n",
    "print(get_hydrogen_bond(a5, a7, a6))  #arguments order: donor, acceptor, donor_H=None\n",
    "print(get_polar_interaction(a5, a7))"
   ]
  },
  {
   "cell_type": "markdown",
   "metadata": {},
   "source": [
    "## Structure alignment\n",
    "The 'Structural_alignment' module provide funtion to align a set of molecules. The RMSD values for the strcuture superimpose can be calculated, coordinates of the aligned structure can also be updated."
   ]
  },
  {
   "cell_type": "code",
   "execution_count": 3,
   "metadata": {},
   "outputs": [
    {
     "name": "stdout",
     "output_type": "stream",
     "text": [
      "[2.0068643949461528e-15, 0.94370990160247836]\n"
     ]
    }
   ],
   "source": [
    "m1 = mol.m1\n",
    "m2 = mol.m2\n",
    "molecule_list = [m1,m2]\n",
    "\n",
    "residue_range = [[1,2],[1,2]]\n",
    "sa = Structural_alignment(molecule_list, residue_range, update_coord=False)\n",
    "sa.run()\n",
    "print(sa.rmsd)"
   ]
  },
  {
   "cell_type": "markdown",
   "metadata": {},
   "source": [
    "## Sequence alignment\n",
    "The 'Structural_alignment' module is used to deal with the multiple sequence alignment to mapping residues between different residues, i.e., to get the residue serials of the conserved residues among different molecules. The conserved residue serials can than be used in the structure alignment."
   ]
  },
  {
   "cell_type": "code",
   "execution_count": 6,
   "metadata": {},
   "outputs": [
    {
     "name": "stdout",
     "output_type": "stream",
     "text": [
      "[16, 20, 22, 25, 26, 27, 43, 49, 50, 59, 65, 79, 83, 85, 104, 155, 158, 161, 175, 179, 184, 185, 190, 191, 197, 202, 205, 206, 241, 245, 253, 264, 267, 300, 305, 337, 352, 354, 379, 388, 394, 427, 440, 442, 467, 472]\n",
      "[12, 16, 18, 21, 22, 23, 39, 45, 46, 55, 61, 75, 79, 81, 101, 147, 150, 153, 167, 171, 176, 177, 182, 183, 189, 194, 197, 198, 229, 233, 241, 251, 254, 279, 284, 314, 328, 330, 352, 361, 367, 400, 413, 415, 440, 445]\n"
     ]
    }
   ],
   "source": [
    "seq = 'D:\\\\python\\\\structural bioinformatics_in_python\\\\PPO-crystal.clustal'\n",
    "alignment=Seq_align_parser(seq)\n",
    "alignment.run()\n",
    "con_res = []\n",
    "con_res.append(alignment.align_res_mask['O24164|PPOM_TOBAC      '])\n",
    "con_res.append(alignment.align_res_mask['P56601|PPOX_MYXXA      '])\n",
    "print(con_res[0])  #conserved residue in 'PPOM_TOBAC'\n",
    "print(con_res[1])"
   ]
  },
  {
   "cell_type": "markdown",
   "metadata": {},
   "source": [
    "## Structural analysis for nucleic acids and protein\n",
    "The 'Structural_analysis' and 'Plot' modules provide methods for simple structural analysis and visulization for nucleic and protein. For example, the backbone torsion angle, the puckering of the sugar of nucleeotide, can be computed and plotted. (see examples for more detail)"
   ]
  },
  {
   "cell_type": "markdown",
   "metadata": {},
   "source": [
    "## Standard biomolecular data\n",
    "The 'Data' module provides standard syntax for biomolecule, such as the standard name for amino acid and nucleic acid residue, molecular weights, etc."
   ]
  }
 ],
 "metadata": {
  "kernelspec": {
   "display_name": "Python 3",
   "language": "python",
   "name": "python3"
  },
  "language_info": {
   "codemirror_mode": {
    "name": "ipython",
    "version": 3
   },
   "file_extension": ".py",
   "mimetype": "text/x-python",
   "name": "python",
   "nbconvert_exporter": "python",
   "pygments_lexer": "ipython3",
   "version": "3.6.1"
  }
 },
 "nbformat": 4,
 "nbformat_minor": 2
}
